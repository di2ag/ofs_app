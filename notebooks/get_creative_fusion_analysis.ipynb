{
  "nbformat": 4,
  "nbformat_minor": 0,
  "metadata": {
    "colab": {
      "name": "get_creative_fusion_analysis.ipynb",
      "provenance": [],
      "authorship_tag": "ABX9TyP4WBZVgJs/TfRU5d2ENzMR",
      "include_colab_link": true
    },
    "kernelspec": {
      "name": "python3",
      "display_name": "Python 3"
    },
    "language_info": {
      "name": "python"
    }
  },
  "cells": [
    {
      "cell_type": "markdown",
      "metadata": {
        "id": "view-in-github",
        "colab_type": "text"
      },
      "source": [
        "<a href=\"https://colab.research.google.com/github/di2ag/ofs_app/blob/master/notebooks/get_creative_fusion_analysis.ipynb\" target=\"_parent\"><img src=\"https://colab.research.google.com/assets/colab-badge.svg\" alt=\"Open In Colab\"/></a>"
      ]
    },
    {
      "cell_type": "code",
      "execution_count": null,
      "metadata": {
        "id": "7_Iu5CGkZeqZ"
      },
      "outputs": [],
      "source": [
        ""
      ]
    }
  ]
}