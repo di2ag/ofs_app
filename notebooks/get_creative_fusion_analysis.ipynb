{
  "nbformat": 4,
  "nbformat_minor": 0,
  "metadata": {
    "colab": {
      "name": "get_creative_fusion_analysis.ipynb",
      "provenance": [],
      "mount_file_id": "https://github.com/di2ag/ofs_app/blob/master/notebooks/get_creative_fusion_analysis.ipynb",
      "authorship_tag": "ABX9TyNnHY3lYe9gVd+28og3Oz3m",
      "include_colab_link": true
    },
    "kernelspec": {
      "name": "python3",
      "display_name": "Python 3"
    },
    "language_info": {
      "name": "python"
    }
  },
  "cells": [
    {
      "cell_type": "markdown",
      "metadata": {
        "id": "view-in-github",
        "colab_type": "text"
      },
      "source": [
        "<a href=\"https://colab.research.google.com/github/di2ag/ofs_app/blob/master/notebooks/get_creative_fusion_analysis.ipynb\" target=\"_parent\"><img src=\"https://colab.research.google.com/assets/colab-badge.svg\" alt=\"Open In Colab\"/></a>"
      ]
    },
    {
      "cell_type": "code",
      "execution_count": 3,
      "metadata": {
        "id": "7_Iu5CGkZeqZ",
        "outputId": "246395b4-b2b8-4539-cca6-ccd4ea03d2df",
        "colab": {
          "base_uri": "https://localhost:8080/",
          "height": 1000
        }
      },
      "outputs": [
        {
          "output_type": "stream",
          "name": "stdout",
          "text": [
            "Looking in indexes: https://pypi.org/simple, https://us-python.pkg.dev/colab-wheels/public/simple/\n",
            "Collecting git+https://github.com/di2ag/trapi_model.git\n",
            "  Cloning https://github.com/di2ag/trapi_model.git to /tmp/pip-req-build-56iygdvk\n",
            "  Running command git clone -q https://github.com/di2ag/trapi_model.git /tmp/pip-req-build-56iygdvk\n",
            "  Running command git submodule update --init --recursive -q\n",
            "  Installing build dependencies ... \u001b[?25l\u001b[?25hdone\n",
            "  Getting requirements to build wheel ... \u001b[?25l\u001b[?25hdone\n",
            "    Preparing wheel metadata ... \u001b[?25l\u001b[?25hdone\n",
            "Collecting reasoner-validator@ git+https://github.com/di2ag/reasoner-validator.git@master\n",
            "  Cloning https://github.com/di2ag/reasoner-validator.git (to revision master) to /tmp/pip-install-tqqix706/reasoner-validator_8b6481f042924ec09aabb804e52f9361\n",
            "  Running command git clone -q https://github.com/di2ag/reasoner-validator.git /tmp/pip-install-tqqix706/reasoner-validator_8b6481f042924ec09aabb804e52f9361\n",
            "Requirement already satisfied: jsonschema==3.2.0 in /usr/local/lib/python3.7/dist-packages (from trapi-model==1.0.0) (3.2.0)\n",
            "Requirement already satisfied: deepdiff<6.0.0,>=5.8.1 in /usr/local/lib/python3.7/dist-packages (from trapi-model==1.0.0) (5.8.1)\n",
            "Requirement already satisfied: bmt<0.8.0,>=0.7.4 in /usr/local/lib/python3.7/dist-packages (from trapi-model==1.0.0) (0.7.8)\n",
            "Requirement already satisfied: pyyaml<6.0,>=5.1 in /usr/local/lib/python3.7/dist-packages (from reasoner-validator@ git+https://github.com/di2ag/reasoner-validator.git@master->trapi-model==1.0.0) (5.4.1)\n",
            "Requirement already satisfied: requests<3.0,>=2.0 in /usr/local/lib/python3.7/dist-packages (from reasoner-validator@ git+https://github.com/di2ag/reasoner-validator.git@master->trapi-model==1.0.0) (2.23.0)\n",
            "Requirement already satisfied: importlib-metadata in /usr/local/lib/python3.7/dist-packages (from jsonschema==3.2.0->trapi-model==1.0.0) (4.2.0)\n",
            "Requirement already satisfied: pyrsistent>=0.14.0 in /usr/local/lib/python3.7/dist-packages (from jsonschema==3.2.0->trapi-model==1.0.0) (0.18.1)\n",
            "Requirement already satisfied: six>=1.11.0 in /usr/local/lib/python3.7/dist-packages (from jsonschema==3.2.0->trapi-model==1.0.0) (1.15.0)\n",
            "Requirement already satisfied: attrs>=17.4.0 in /usr/local/lib/python3.7/dist-packages (from jsonschema==3.2.0->trapi-model==1.0.0) (21.4.0)\n",
            "Requirement already satisfied: setuptools in /usr/local/lib/python3.7/dist-packages (from jsonschema==3.2.0->trapi-model==1.0.0) (57.4.0)\n",
            "Requirement already satisfied: sphinx-rtd-theme in /usr/local/lib/python3.7/dist-packages (from bmt<0.8.0,>=0.7.4->trapi-model==1.0.0) (1.0.0)\n",
            "Requirement already satisfied: flake8 in /usr/local/lib/python3.7/dist-packages (from bmt<0.8.0,>=0.7.4->trapi-model==1.0.0) (4.0.1)\n",
            "Requirement already satisfied: linkml>=1.0.0 in /usr/local/lib/python3.7/dist-packages (from bmt<0.8.0,>=0.7.4->trapi-model==1.0.0) (1.2.15)\n",
            "Requirement already satisfied: deprecation>=2.0.6 in /usr/local/lib/python3.7/dist-packages (from bmt<0.8.0,>=0.7.4->trapi-model==1.0.0) (2.1.0)\n",
            "Requirement already satisfied: tox in /usr/local/lib/python3.7/dist-packages (from bmt<0.8.0,>=0.7.4->trapi-model==1.0.0) (3.12.1)\n",
            "Requirement already satisfied: recommonmark in /usr/local/lib/python3.7/dist-packages (from bmt<0.8.0,>=0.7.4->trapi-model==1.0.0) (0.7.1)\n",
            "Requirement already satisfied: numpydoc in /usr/local/lib/python3.7/dist-packages (from bmt<0.8.0,>=0.7.4->trapi-model==1.0.0) (1.4.0)\n",
            "Requirement already satisfied: stringcase>=1.0.0 in /usr/local/lib/python3.7/dist-packages (from bmt<0.8.0,>=0.7.4->trapi-model==1.0.0) (1.2.0)\n",
            "Requirement already satisfied: black in /usr/local/lib/python3.7/dist-packages (from bmt<0.8.0,>=0.7.4->trapi-model==1.0.0) (22.6.0)\n",
            "Requirement already satisfied: sphinxcontrib-napoleon in /usr/local/lib/python3.7/dist-packages (from bmt<0.8.0,>=0.7.4->trapi-model==1.0.0) (0.7)\n",
            "Requirement already satisfied: pytest in /usr/local/lib/python3.7/dist-packages (from bmt<0.8.0,>=0.7.4->trapi-model==1.0.0) (3.6.4)\n",
            "Requirement already satisfied: sphinx in /usr/local/lib/python3.7/dist-packages (from bmt<0.8.0,>=0.7.4->trapi-model==1.0.0) (4.3.2)\n",
            "Requirement already satisfied: pbr in /usr/local/lib/python3.7/dist-packages (from bmt<0.8.0,>=0.7.4->trapi-model==1.0.0) (5.9.0)\n",
            "Requirement already satisfied: ordered-set<4.2.0,>=4.1.0 in /usr/local/lib/python3.7/dist-packages (from deepdiff<6.0.0,>=5.8.1->trapi-model==1.0.0) (4.1.0)\n",
            "Requirement already satisfied: packaging in /usr/local/lib/python3.7/dist-packages (from deprecation>=2.0.6->bmt<0.8.0,>=0.7.4->trapi-model==1.0.0) (21.3)\n",
            "Requirement already satisfied: jsonasobj2<2.0.0,>=1.0.3 in /usr/local/lib/python3.7/dist-packages (from linkml>=1.0.0->bmt<0.8.0,>=0.7.4->trapi-model==1.0.0) (1.0.4)\n",
            "Requirement already satisfied: antlr4-python3-runtime<4.10,>=4.9.0 in /usr/local/lib/python3.7/dist-packages (from linkml>=1.0.0->bmt<0.8.0,>=0.7.4->trapi-model==1.0.0) (4.9.3)\n",
            "Requirement already satisfied: openpyxl in /usr/local/lib/python3.7/dist-packages (from linkml>=1.0.0->bmt<0.8.0,>=0.7.4->trapi-model==1.0.0) (3.0.10)\n",
            "Requirement already satisfied: watchdog>=0.9.0 in /usr/local/lib/python3.7/dist-packages (from linkml>=1.0.0->bmt<0.8.0,>=0.7.4->trapi-model==1.0.0) (2.1.9)\n",
            "Requirement already satisfied: pydantic in /usr/local/lib/python3.7/dist-packages (from linkml>=1.0.0->bmt<0.8.0,>=0.7.4->trapi-model==1.0.0) (1.8.2)\n",
            "Requirement already satisfied: rdflib>=6.0.0 in /usr/local/lib/python3.7/dist-packages (from linkml>=1.0.0->bmt<0.8.0,>=0.7.4->trapi-model==1.0.0) (6.1.1)\n",
            "Requirement already satisfied: hbreader in /usr/local/lib/python3.7/dist-packages (from linkml>=1.0.0->bmt<0.8.0,>=0.7.4->trapi-model==1.0.0) (0.9.1)\n",
            "Requirement already satisfied: pyshexc>=0.8.3 in /usr/local/lib/python3.7/dist-packages (from linkml>=1.0.0->bmt<0.8.0,>=0.7.4->trapi-model==1.0.0) (0.9.1)\n",
            "Requirement already satisfied: pyjsg>=0.11.6 in /usr/local/lib/python3.7/dist-packages (from linkml>=1.0.0->bmt<0.8.0,>=0.7.4->trapi-model==1.0.0) (0.11.10)\n",
            "Requirement already satisfied: linkml-dataops in /usr/local/lib/python3.7/dist-packages (from linkml>=1.0.0->bmt<0.8.0,>=0.7.4->trapi-model==1.0.0) (0.1.0)\n",
            "Requirement already satisfied: pyshex>=0.7.20 in /usr/local/lib/python3.7/dist-packages (from linkml>=1.0.0->bmt<0.8.0,>=0.7.4->trapi-model==1.0.0) (0.8.1)\n",
            "Requirement already satisfied: isodate>=0.6.0 in /usr/local/lib/python3.7/dist-packages (from linkml>=1.0.0->bmt<0.8.0,>=0.7.4->trapi-model==1.0.0) (0.6.1)\n",
            "Requirement already satisfied: prefixcommons>=0.1.7 in /usr/local/lib/python3.7/dist-packages (from linkml>=1.0.0->bmt<0.8.0,>=0.7.4->trapi-model==1.0.0) (0.1.9)\n",
            "Requirement already satisfied: myst-parser in /usr/local/lib/python3.7/dist-packages (from linkml>=1.0.0->bmt<0.8.0,>=0.7.4->trapi-model==1.0.0) (0.18.0)\n",
            "Requirement already satisfied: jinja2 in /usr/local/lib/python3.7/dist-packages (from linkml>=1.0.0->bmt<0.8.0,>=0.7.4->trapi-model==1.0.0) (2.11.3)\n",
            "Requirement already satisfied: linkml-runtime==1.2.16 in /usr/local/lib/python3.7/dist-packages (from linkml>=1.0.0->bmt<0.8.0,>=0.7.4->trapi-model==1.0.0) (1.2.16)\n",
            "Collecting argparse>=1.4.0\n",
            "  Using cached argparse-1.4.0-py2.py3-none-any.whl (23 kB)\n",
            "Requirement already satisfied: sqlalchemy>=1.4.31 in /usr/local/lib/python3.7/dist-packages (from linkml>=1.0.0->bmt<0.8.0,>=0.7.4->trapi-model==1.0.0) (1.4.37)\n",
            "Requirement already satisfied: python-dateutil in /usr/local/lib/python3.7/dist-packages (from linkml>=1.0.0->bmt<0.8.0,>=0.7.4->trapi-model==1.0.0) (2.8.2)\n",
            "Requirement already satisfied: click>=7.0 in /usr/local/lib/python3.7/dist-packages (from linkml>=1.0.0->bmt<0.8.0,>=0.7.4->trapi-model==1.0.0) (8.1.3)\n",
            "Requirement already satisfied: graphviz>=0.10.1 in /usr/local/lib/python3.7/dist-packages (from linkml>=1.0.0->bmt<0.8.0,>=0.7.4->trapi-model==1.0.0) (0.10.1)\n",
            "Requirement already satisfied: parse in /usr/local/lib/python3.7/dist-packages (from linkml>=1.0.0->bmt<0.8.0,>=0.7.4->trapi-model==1.0.0) (1.19.0)\n",
            "Requirement already satisfied: sphinx-click in /usr/local/lib/python3.7/dist-packages (from linkml>=1.0.0->bmt<0.8.0,>=0.7.4->trapi-model==1.0.0) (4.3.0)\n",
            "Requirement already satisfied: json-flattener>=0.1.9 in /usr/local/lib/python3.7/dist-packages (from linkml-runtime==1.2.16->linkml>=1.0.0->bmt<0.8.0,>=0.7.4->trapi-model==1.0.0) (0.1.9)\n",
            "Requirement already satisfied: deprecated in /usr/local/lib/python3.7/dist-packages (from linkml-runtime==1.2.16->linkml>=1.0.0->bmt<0.8.0,>=0.7.4->trapi-model==1.0.0) (1.2.13)\n",
            "Requirement already satisfied: jsonasobj>=1.2.1 in /usr/local/lib/python3.7/dist-packages (from pyjsg>=0.11.6->linkml>=1.0.0->bmt<0.8.0,>=0.7.4->trapi-model==1.0.0) (1.3.1)\n",
            "Requirement already satisfied: rdflib-shim in /usr/local/lib/python3.7/dist-packages (from pyshex>=0.7.20->linkml>=1.0.0->bmt<0.8.0,>=0.7.4->trapi-model==1.0.0) (1.0.3)\n",
            "Requirement already satisfied: chardet in /usr/local/lib/python3.7/dist-packages (from pyshex>=0.7.20->linkml>=1.0.0->bmt<0.8.0,>=0.7.4->trapi-model==1.0.0) (3.0.4)\n",
            "Requirement already satisfied: sparqlwrapper>=1.8.5 in /usr/local/lib/python3.7/dist-packages (from pyshex>=0.7.20->linkml>=1.0.0->bmt<0.8.0,>=0.7.4->trapi-model==1.0.0) (2.0.0)\n",
            "Requirement already satisfied: sparqlslurper>=0.5.1 in /usr/local/lib/python3.7/dist-packages (from pyshex>=0.7.20->linkml>=1.0.0->bmt<0.8.0,>=0.7.4->trapi-model==1.0.0) (0.5.1)\n",
            "Requirement already satisfied: urllib3 in /usr/local/lib/python3.7/dist-packages (from pyshex>=0.7.20->linkml>=1.0.0->bmt<0.8.0,>=0.7.4->trapi-model==1.0.0) (1.24.3)\n",
            "Requirement already satisfied: cfgraph>=0.2.1 in /usr/local/lib/python3.7/dist-packages (from pyshex>=0.7.20->linkml>=1.0.0->bmt<0.8.0,>=0.7.4->trapi-model==1.0.0) (0.2.1)\n",
            "Requirement already satisfied: shexjsg>=0.8.2 in /usr/local/lib/python3.7/dist-packages (from pyshex>=0.7.20->linkml>=1.0.0->bmt<0.8.0,>=0.7.4->trapi-model==1.0.0) (0.8.2)\n",
            "Requirement already satisfied: pyparsing in /usr/local/lib/python3.7/dist-packages (from rdflib>=6.0.0->linkml>=1.0.0->bmt<0.8.0,>=0.7.4->trapi-model==1.0.0) (3.0.9)\n",
            "Requirement already satisfied: certifi>=2017.4.17 in /usr/local/lib/python3.7/dist-packages (from requests<3.0,>=2.0->reasoner-validator@ git+https://github.com/di2ag/reasoner-validator.git@master->trapi-model==1.0.0) (2022.6.15)\n",
            "Requirement already satisfied: idna<3,>=2.5 in /usr/local/lib/python3.7/dist-packages (from requests<3.0,>=2.0->reasoner-validator@ git+https://github.com/di2ag/reasoner-validator.git@master->trapi-model==1.0.0) (2.10)\n",
            "Requirement already satisfied: greenlet!=0.4.17 in /usr/local/lib/python3.7/dist-packages (from sqlalchemy>=1.4.31->linkml>=1.0.0->bmt<0.8.0,>=0.7.4->trapi-model==1.0.0) (1.1.2)\n",
            "Requirement already satisfied: platformdirs>=2 in /usr/local/lib/python3.7/dist-packages (from black->bmt<0.8.0,>=0.7.4->trapi-model==1.0.0) (2.5.2)\n",
            "Requirement already satisfied: tomli>=1.1.0 in /usr/local/lib/python3.7/dist-packages (from black->bmt<0.8.0,>=0.7.4->trapi-model==1.0.0) (2.0.1)\n",
            "Requirement already satisfied: pathspec>=0.9.0 in /usr/local/lib/python3.7/dist-packages (from black->bmt<0.8.0,>=0.7.4->trapi-model==1.0.0) (0.9.0)\n",
            "Requirement already satisfied: typing-extensions>=3.10.0.0 in /usr/local/lib/python3.7/dist-packages (from black->bmt<0.8.0,>=0.7.4->trapi-model==1.0.0) (4.1.1)\n",
            "Requirement already satisfied: typed-ast>=1.4.2 in /usr/local/lib/python3.7/dist-packages (from black->bmt<0.8.0,>=0.7.4->trapi-model==1.0.0) (1.5.4)\n",
            "Requirement already satisfied: mypy-extensions>=0.4.3 in /usr/local/lib/python3.7/dist-packages (from black->bmt<0.8.0,>=0.7.4->trapi-model==1.0.0) (0.4.3)\n",
            "Requirement already satisfied: wrapt<2,>=1.10 in /usr/local/lib/python3.7/dist-packages (from deprecated->linkml-runtime==1.2.16->linkml>=1.0.0->bmt<0.8.0,>=0.7.4->trapi-model==1.0.0) (1.14.1)\n",
            "Requirement already satisfied: pyflakes<2.5.0,>=2.4.0 in /usr/local/lib/python3.7/dist-packages (from flake8->bmt<0.8.0,>=0.7.4->trapi-model==1.0.0) (2.4.0)\n",
            "Requirement already satisfied: pycodestyle<2.9.0,>=2.8.0 in /usr/local/lib/python3.7/dist-packages (from flake8->bmt<0.8.0,>=0.7.4->trapi-model==1.0.0) (2.8.0)\n",
            "Requirement already satisfied: mccabe<0.7.0,>=0.6.0 in /usr/local/lib/python3.7/dist-packages (from flake8->bmt<0.8.0,>=0.7.4->trapi-model==1.0.0) (0.6.1)\n",
            "Requirement already satisfied: zipp>=0.5 in /usr/local/lib/python3.7/dist-packages (from importlib-metadata->jsonschema==3.2.0->trapi-model==1.0.0) (3.8.0)\n",
            "Requirement already satisfied: MarkupSafe>=0.23 in /usr/local/lib/python3.7/dist-packages (from jinja2->linkml>=1.0.0->bmt<0.8.0,>=0.7.4->trapi-model==1.0.0) (2.0.1)\n",
            "Requirement already satisfied: ruamel.yaml in /usr/local/lib/python3.7/dist-packages (from linkml-dataops->linkml>=1.0.0->bmt<0.8.0,>=0.7.4->trapi-model==1.0.0) (0.17.21)\n",
            "Requirement already satisfied: jsonpatch in /usr/local/lib/python3.7/dist-packages (from linkml-dataops->linkml>=1.0.0->bmt<0.8.0,>=0.7.4->trapi-model==1.0.0) (1.32)\n",
            "Requirement already satisfied: jsonpath-ng in /usr/local/lib/python3.7/dist-packages (from linkml-dataops->linkml>=1.0.0->bmt<0.8.0,>=0.7.4->trapi-model==1.0.0) (1.5.3)\n",
            "Requirement already satisfied: jsonpointer>=1.9 in /usr/local/lib/python3.7/dist-packages (from jsonpatch->linkml-dataops->linkml>=1.0.0->bmt<0.8.0,>=0.7.4->trapi-model==1.0.0) (2.3)\n",
            "Requirement already satisfied: decorator in /usr/local/lib/python3.7/dist-packages (from jsonpath-ng->linkml-dataops->linkml>=1.0.0->bmt<0.8.0,>=0.7.4->trapi-model==1.0.0) (4.4.2)\n",
            "Requirement already satisfied: ply in /usr/local/lib/python3.7/dist-packages (from jsonpath-ng->linkml-dataops->linkml>=1.0.0->bmt<0.8.0,>=0.7.4->trapi-model==1.0.0) (3.11)\n",
            "Requirement already satisfied: docutils<0.19,>=0.15 in /usr/local/lib/python3.7/dist-packages (from myst-parser->linkml>=1.0.0->bmt<0.8.0,>=0.7.4->trapi-model==1.0.0) (0.17.1)\n",
            "Requirement already satisfied: markdown-it-py<3.0.0,>=1.0.0 in /usr/local/lib/python3.7/dist-packages (from myst-parser->linkml>=1.0.0->bmt<0.8.0,>=0.7.4->trapi-model==1.0.0) (2.1.0)\n",
            "Requirement already satisfied: mdit-py-plugins~=0.3.0 in /usr/local/lib/python3.7/dist-packages (from myst-parser->linkml>=1.0.0->bmt<0.8.0,>=0.7.4->trapi-model==1.0.0) (0.3.0)\n",
            "Requirement already satisfied: mdurl~=0.1 in /usr/local/lib/python3.7/dist-packages (from markdown-it-py<3.0.0,>=1.0.0->myst-parser->linkml>=1.0.0->bmt<0.8.0,>=0.7.4->trapi-model==1.0.0) (0.1.1)\n",
            "Requirement already satisfied: sphinxcontrib-applehelp in /usr/local/lib/python3.7/dist-packages (from sphinx->bmt<0.8.0,>=0.7.4->trapi-model==1.0.0) (1.0.2)\n",
            "Requirement already satisfied: sphinxcontrib-devhelp in /usr/local/lib/python3.7/dist-packages (from sphinx->bmt<0.8.0,>=0.7.4->trapi-model==1.0.0) (1.0.2)\n",
            "Requirement already satisfied: alabaster<0.8,>=0.7 in /usr/local/lib/python3.7/dist-packages (from sphinx->bmt<0.8.0,>=0.7.4->trapi-model==1.0.0) (0.7.12)\n",
            "Requirement already satisfied: sphinxcontrib-htmlhelp>=2.0.0 in /usr/local/lib/python3.7/dist-packages (from sphinx->bmt<0.8.0,>=0.7.4->trapi-model==1.0.0) (2.0.0)\n",
            "Requirement already satisfied: Pygments>=2.0 in /usr/local/lib/python3.7/dist-packages (from sphinx->bmt<0.8.0,>=0.7.4->trapi-model==1.0.0) (2.6.1)\n",
            "Requirement already satisfied: snowballstemmer>=1.1 in /usr/local/lib/python3.7/dist-packages (from sphinx->bmt<0.8.0,>=0.7.4->trapi-model==1.0.0) (2.2.0)\n",
            "Requirement already satisfied: babel>=1.3 in /usr/local/lib/python3.7/dist-packages (from sphinx->bmt<0.8.0,>=0.7.4->trapi-model==1.0.0) (2.10.2)\n",
            "Requirement already satisfied: sphinxcontrib-qthelp in /usr/local/lib/python3.7/dist-packages (from sphinx->bmt<0.8.0,>=0.7.4->trapi-model==1.0.0) (1.0.3)\n",
            "Requirement already satisfied: sphinxcontrib-jsmath in /usr/local/lib/python3.7/dist-packages (from sphinx->bmt<0.8.0,>=0.7.4->trapi-model==1.0.0) (1.0.1)\n",
            "Requirement already satisfied: imagesize in /usr/local/lib/python3.7/dist-packages (from sphinx->bmt<0.8.0,>=0.7.4->trapi-model==1.0.0) (1.3.0)\n",
            "Requirement already satisfied: sphinxcontrib-serializinghtml>=1.1.5 in /usr/local/lib/python3.7/dist-packages (from sphinx->bmt<0.8.0,>=0.7.4->trapi-model==1.0.0) (1.1.5)\n",
            "Requirement already satisfied: pytz>=2015.7 in /usr/local/lib/python3.7/dist-packages (from babel>=1.3->sphinx->bmt<0.8.0,>=0.7.4->trapi-model==1.0.0) (2022.1)\n",
            "Requirement already satisfied: et-xmlfile in /usr/local/lib/python3.7/dist-packages (from openpyxl->linkml>=1.0.0->bmt<0.8.0,>=0.7.4->trapi-model==1.0.0) (1.1.0)\n",
            "Requirement already satisfied: more-itertools>=4.0.0 in /usr/local/lib/python3.7/dist-packages (from pytest->bmt<0.8.0,>=0.7.4->trapi-model==1.0.0) (8.13.0)\n",
            "Requirement already satisfied: py>=1.5.0 in /usr/local/lib/python3.7/dist-packages (from pytest->bmt<0.8.0,>=0.7.4->trapi-model==1.0.0) (1.11.0)\n",
            "Requirement already satisfied: pluggy<0.8,>=0.5 in /usr/local/lib/python3.7/dist-packages (from pytest->bmt<0.8.0,>=0.7.4->trapi-model==1.0.0) (0.7.1)\n",
            "Requirement already satisfied: atomicwrites>=1.0 in /usr/local/lib/python3.7/dist-packages (from pytest->bmt<0.8.0,>=0.7.4->trapi-model==1.0.0) (1.4.0)\n",
            "Requirement already satisfied: rdflib-jsonld==0.6.1 in /usr/local/lib/python3.7/dist-packages (from rdflib-shim->pyshex>=0.7.20->linkml>=1.0.0->bmt<0.8.0,>=0.7.4->trapi-model==1.0.0) (0.6.1)\n",
            "Requirement already satisfied: commonmark>=0.8.1 in /usr/local/lib/python3.7/dist-packages (from recommonmark->bmt<0.8.0,>=0.7.4->trapi-model==1.0.0) (0.9.1)\n",
            "Requirement already satisfied: ruamel.yaml.clib>=0.2.6 in /usr/local/lib/python3.7/dist-packages (from ruamel.yaml->linkml-dataops->linkml>=1.0.0->bmt<0.8.0,>=0.7.4->trapi-model==1.0.0) (0.2.6)\n",
            "Requirement already satisfied: pockets>=0.3 in /usr/local/lib/python3.7/dist-packages (from sphinxcontrib-napoleon->bmt<0.8.0,>=0.7.4->trapi-model==1.0.0) (0.9.1)\n",
            "Requirement already satisfied: toml>=0.9.4 in /usr/local/lib/python3.7/dist-packages (from tox->bmt<0.8.0,>=0.7.4->trapi-model==1.0.0) (0.10.2)\n",
            "Requirement already satisfied: filelock<4,>=3.0.0 in /usr/local/lib/python3.7/dist-packages (from tox->bmt<0.8.0,>=0.7.4->trapi-model==1.0.0) (3.7.1)\n",
            "Requirement already satisfied: virtualenv>=14.0.0 in /usr/local/lib/python3.7/dist-packages (from tox->bmt<0.8.0,>=0.7.4->trapi-model==1.0.0) (20.15.1)\n",
            "Requirement already satisfied: distlib<1,>=0.3.1 in /usr/local/lib/python3.7/dist-packages (from virtualenv>=14.0.0->tox->bmt<0.8.0,>=0.7.4->trapi-model==1.0.0) (0.3.4)\n",
            "Installing collected packages: argparse\n",
            "Successfully installed argparse-1.4.0\n"
          ]
        },
        {
          "output_type": "display_data",
          "data": {
            "application/vnd.colab-display-data+json": {
              "pip_warning": {
                "packages": [
                  "argparse"
                ]
              }
            }
          },
          "metadata": {}
        },
        {
          "output_type": "stream",
          "name": "stdout",
          "text": [
            "Looking in indexes: https://pypi.org/simple, https://us-python.pkg.dev/colab-wheels/public/simple/\n",
            "Collecting git+https://github.com/di2ag/chp_utils.git\n",
            "  Cloning https://github.com/di2ag/chp_utils.git to /tmp/pip-req-build-q1xyxess\n",
            "  Running command git clone -q https://github.com/di2ag/chp_utils.git /tmp/pip-req-build-q1xyxess\n",
            "Building wheels for collected packages: chp-utils\n",
            "  Building wheel for chp-utils (setup.py) ... \u001b[?25l\u001b[?25hdone\n",
            "  Created wheel for chp-utils: filename=chp_utils-0.1.0-py3-none-any.whl size=20929 sha256=c8021731178f4c8b5d3245895a74f309b50082d52b56afef2858d2f412bfe5e9\n",
            "  Stored in directory: /tmp/pip-ephem-wheel-cache-ms16h920/wheels/f9/ba/9b/27546108a0c953dfd95c5f3b19ad8a44973baa1d64474e21c4\n",
            "Successfully built chp-utils\n",
            "Installing collected packages: chp-utils\n",
            "Successfully installed chp-utils-0.1.0\n"
          ]
        }
      ],
      "source": [
        "# Install statements\n",
        "!pip install git+https://github.com/di2ag/trapi_model.git\n",
        "!pip install git+https://github.com/di2ag/chp_utils.git"
      ]
    },
    {
      "cell_type": "code",
      "source": [
        "# Import statements\n",
        "import os\n",
        "import json\n",
        "import tqdm\n",
        "from collections import defaultdict\n",
        "\n",
        "from trapi_model.query import Query"
      ],
      "metadata": {
        "id": "rezCHdBZ1auB",
        "outputId": "4897435b-4e90-478b-bd34-ab07d53165ea",
        "colab": {
          "base_uri": "https://localhost:8080/"
        }
      },
      "execution_count": 1,
      "outputs": [
        {
          "output_type": "stream",
          "name": "stdout",
          "text": [
            "\n",
            "WARNING: '1.0.0-beta' is not a valid release version\n"
          ]
        },
        {
          "output_type": "stream",
          "name": "stderr",
          "text": [
            "Could not get element for created_with.\n",
            "Could not get element for composed_primarily_of.\n",
            "Could not get element for original_subject.\n",
            "Could not get element for original_object.\n",
            "Could not get element for original_predicate.\n",
            "Could not get element for date_or_datetime.\n"
          ]
        }
      ]
    },
    {
      "cell_type": "code",
      "source": [
        "# Constants\n",
        "RESPONSES_DIR = '/content/drive/Shareddrives/Connections Hypothesis/Creative Mode Responses - Relay 2022-06'"
      ],
      "metadata": {
        "id": "iJa56f2W1wEB"
      },
      "execution_count": 2,
      "outputs": []
    },
    {
      "cell_type": "code",
      "source": [
        "responses = {}\n",
        "for disease_dir in tqdm.tqdm(os.listdir(RESPONSES_DIR), position=0):\n",
        "  disease_path = os.path.join(RESPONSES_DIR, disease_dir)\n",
        "  disease_res_dict = defaultdict(list)\n",
        "  for agent_name in os.listdir(disease_path):\n",
        "    agent_res_path = os.path.join(disease_path, agent_name)\n",
        "    agent_base_name, _ = agent_name.split('.')\n",
        "    agent_name_split = agent_base_name.split('-')\n",
        "    if len(agent_name_split) == 1:\n",
        "      agent = agent_name\n",
        "    else:\n",
        "      agent = agent_name_split[0]\n",
        "    try:\n",
        "      with open(agent_res_path, 'r') as json_file:\n",
        "        res = json.load(json_file)\n",
        "      query = Query.load('1.2', None, res)\n",
        "    except:\n",
        "      print(f'Could not load file: {agent_res_path}.')\n",
        "      continue\n",
        "    disease_res_dict[agent].append(query)\n",
        "  disease_res_dict = dict(disease_res_dict)\n",
        "  responses[disease_dir] = disease_res_dict"
      ],
      "metadata": {
        "id": "C73S6z0x6AN2",
        "outputId": "c9cba6f6-ec35-4b1c-e90a-fcea61e97cd8",
        "colab": {
          "base_uri": "https://localhost:8080/"
        }
      },
      "execution_count": null,
      "outputs": [
        {
          "output_type": "stream",
          "name": "stderr",
          "text": [
            "  4%|▎         | 1/27 [00:09<04:04,  9.40s/it]"
          ]
        },
        {
          "output_type": "stream",
          "name": "stdout",
          "text": [
            "Could not load file: /content/drive/Shareddrives/Connections Hypothesis/Creative Mode Responses - Relay 2022-06/autism (disease) MONDO0005260/expander.json.\n"
          ]
        }
      ]
    },
    {
      "cell_type": "code",
      "source": [
        ""
      ],
      "metadata": {
        "id": "e9LmFIUT8C4c"
      },
      "execution_count": null,
      "outputs": []
    }
  ]
}