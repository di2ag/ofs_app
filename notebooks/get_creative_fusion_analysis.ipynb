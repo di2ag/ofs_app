{
  "nbformat": 4,
  "nbformat_minor": 0,
  "metadata": {
    "colab": {
      "name": "get_creative_fusion_analysis.ipynb",
      "provenance": [],
      "mount_file_id": "https://github.com/di2ag/ofs_app/blob/master/notebooks/get_creative_fusion_analysis.ipynb",
      "authorship_tag": "ABX9TyOvJj4eg1PXrrOce6GwYXo7",
      "include_colab_link": true
    },
    "kernelspec": {
      "name": "python3",
      "display_name": "Python 3"
    },
    "language_info": {
      "name": "python"
    }
  },
  "cells": [
    {
      "cell_type": "markdown",
      "metadata": {
        "id": "view-in-github",
        "colab_type": "text"
      },
      "source": [
        "<a href=\"https://colab.research.google.com/github/di2ag/ofs_app/blob/master/notebooks/get_creative_fusion_analysis.ipynb\" target=\"_parent\"><img src=\"https://colab.research.google.com/assets/colab-badge.svg\" alt=\"Open In Colab\"/></a>"
      ]
    },
    {
      "cell_type": "code",
      "execution_count": null,
      "metadata": {
        "id": "7_Iu5CGkZeqZ"
      },
      "outputs": [],
      "source": [
        "# Install statements\n",
        "!pip install git+https://github.com/di2ag/trapi_model.git\n",
        "!pip install git+https://github.com/di2ag/chp_utils.git"
      ]
    },
    {
      "cell_type": "code",
      "source": [
        "# Import statements\n",
        "import os\n",
        "import json\n",
        "import tqdm\n",
        "from collections import defaultdict\n",
        "\n",
        "from trapi_model.query import Query"
      ],
      "metadata": {
        "colab": {
          "base_uri": "https://localhost:8080/"
        },
        "id": "rezCHdBZ1auB",
        "outputId": "2f98c81f-f780-4563-de27-a85e9dbc16ff"
      },
      "execution_count": 1,
      "outputs": [
        {
          "output_type": "stream",
          "name": "stdout",
          "text": [
            "\n",
            "WARNING: '1.0.0-beta' is not a valid release version\n"
          ]
        },
        {
          "output_type": "stream",
          "name": "stderr",
          "text": [
            "Could not get element for created_with.\n",
            "Could not get element for composed_primarily_of.\n",
            "Could not get element for original_subject.\n",
            "Could not get element for original_object.\n",
            "Could not get element for original_predicate.\n",
            "Could not get element for date_or_datetime.\n"
          ]
        }
      ]
    },
    {
      "cell_type": "code",
      "source": [
        "# Constants\n",
        "RESPONSES_DIR = '/content/drive/Shareddrives/Connections Hypothesis/Creative Mode Responses - Relay 2022-06'"
      ],
      "metadata": {
        "id": "iJa56f2W1wEB"
      },
      "execution_count": 2,
      "outputs": []
    },
    {
      "cell_type": "code",
      "source": [
        "# Load all creative mode responses from agents\n",
        "responses = {}\n",
        "for disease_dir in tqdm.tqdm(os.listdir(RESPONSES_DIR)):\n",
        "  disease_path = os.path.join(RESPONSES_DIR, disease_dir)\n",
        "  disease_res_dict = defaultdict(list)\n",
        "  for agent_name in os.listdir(disease_path):\n",
        "    agent_res_path = os.path.join(disease_path, agent_name)\n",
        "    agent_base_name, _ = agent_name.split('.')\n",
        "    agent_name_split = agent_base_name.split('-')\n",
        "    if len(agent_name_split) == 1:\n",
        "      agent = agent_base_name\n",
        "    else:\n",
        "      agent = agent_name_split[0]\n",
        "    try:\n",
        "      with open(agent_res_path, 'r') as json_file:\n",
        "        res = json.load(json_file)\n",
        "      query = Query.load('1.2', None, res)\n",
        "    except:\n",
        "      tqdm.tqdm.write(f'Could not load file: {agent_res_path}.')\n",
        "      continue\n",
        "    disease_res_dict[agent].append(query)\n",
        "  disease_res_dict = dict(disease_res_dict)\n",
        "  responses[disease_dir] = disease_res_dict"
      ],
      "metadata": {
        "id": "C73S6z0x6AN2"
      },
      "execution_count": null,
      "outputs": []
    }
  ]
}